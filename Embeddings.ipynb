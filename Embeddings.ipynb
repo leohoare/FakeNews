{
 "cells": [
  {
   "cell_type": "code",
   "execution_count": 97,
   "metadata": {},
   "outputs": [],
   "source": [
    "import pandas as pd\n",
    "df = pd.read_csv('dataProcessed.csv').dropna()\n",
    "df.reset_index(drop=True, inplace=True)"
   ]
  },
  {
   "cell_type": "code",
   "execution_count": 98,
   "metadata": {},
   "outputs": [],
   "source": [
    "MAXBODYSIZE = 300\n",
    "MAXHEADSIZE = 100\n",
    "Stances = {'agree', 'disgree', 'discuss', 'unrelated'}"
   ]
  },
  {
   "cell_type": "code",
   "execution_count": 99,
   "metadata": {},
   "outputs": [
    {
     "data": {
      "text/html": [
       "<div>\n",
       "<style scoped>\n",
       "    .dataframe tbody tr th:only-of-type {\n",
       "        vertical-align: middle;\n",
       "    }\n",
       "\n",
       "    .dataframe tbody tr th {\n",
       "        vertical-align: top;\n",
       "    }\n",
       "\n",
       "    .dataframe thead th {\n",
       "        text-align: right;\n",
       "    }\n",
       "</style>\n",
       "<table border=\"1\" class=\"dataframe\">\n",
       "  <thead>\n",
       "    <tr style=\"text-align: right;\">\n",
       "      <th></th>\n",
       "      <th>Body ID</th>\n",
       "      <th>articleBody</th>\n",
       "      <th>Headline</th>\n",
       "      <th>Stance</th>\n",
       "      <th>headProcessed</th>\n",
       "      <th>bodyProcessed</th>\n",
       "    </tr>\n",
       "  </thead>\n",
       "  <tbody>\n",
       "    <tr>\n",
       "      <th>0</th>\n",
       "      <td>0</td>\n",
       "      <td>A small meteorite crashed into a wooded area i...</td>\n",
       "      <td>Soldier shot, Parliament locked down after gun...</td>\n",
       "      <td>unrelated</td>\n",
       "      <td>soldier shoot parliament lock down after gunfi...</td>\n",
       "      <td>a small meteorit crash into a wood area in nic...</td>\n",
       "    </tr>\n",
       "    <tr>\n",
       "      <th>1</th>\n",
       "      <td>0</td>\n",
       "      <td>A small meteorite crashed into a wooded area i...</td>\n",
       "      <td>Tourist dubbed ‘Spider Man’ after spider burro...</td>\n",
       "      <td>unrelated</td>\n",
       "      <td>tourist dub spider man after spider burrow und...</td>\n",
       "      <td>a small meteorit crash into a wood area in nic...</td>\n",
       "    </tr>\n",
       "    <tr>\n",
       "      <th>2</th>\n",
       "      <td>0</td>\n",
       "      <td>A small meteorite crashed into a wooded area i...</td>\n",
       "      <td>Luke Somers 'killed in failed rescue attempt i...</td>\n",
       "      <td>unrelated</td>\n",
       "      <td>luke somer in fail rescu attempt in yemen</td>\n",
       "      <td>a small meteorit crash into a wood area in nic...</td>\n",
       "    </tr>\n",
       "    <tr>\n",
       "      <th>3</th>\n",
       "      <td>0</td>\n",
       "      <td>A small meteorite crashed into a wooded area i...</td>\n",
       "      <td>BREAKING: Soldier shot at War Memorial in Ottawa</td>\n",
       "      <td>unrelated</td>\n",
       "      <td>break soldier shoot at war memori in ottawa</td>\n",
       "      <td>a small meteorit crash into a wood area in nic...</td>\n",
       "    </tr>\n",
       "    <tr>\n",
       "      <th>4</th>\n",
       "      <td>0</td>\n",
       "      <td>A small meteorite crashed into a wooded area i...</td>\n",
       "      <td>Giant 8ft 9in catfish weighing 19 stone caught...</td>\n",
       "      <td>unrelated</td>\n",
       "      <td>giant catfish weigh stone catch in itali be th...</td>\n",
       "      <td>a small meteorit crash into a wood area in nic...</td>\n",
       "    </tr>\n",
       "  </tbody>\n",
       "</table>\n",
       "</div>"
      ],
      "text/plain": [
       "   Body ID                                        articleBody  \\\n",
       "0        0  A small meteorite crashed into a wooded area i...   \n",
       "1        0  A small meteorite crashed into a wooded area i...   \n",
       "2        0  A small meteorite crashed into a wooded area i...   \n",
       "3        0  A small meteorite crashed into a wooded area i...   \n",
       "4        0  A small meteorite crashed into a wooded area i...   \n",
       "\n",
       "                                            Headline     Stance  \\\n",
       "0  Soldier shot, Parliament locked down after gun...  unrelated   \n",
       "1  Tourist dubbed ‘Spider Man’ after spider burro...  unrelated   \n",
       "2  Luke Somers 'killed in failed rescue attempt i...  unrelated   \n",
       "3   BREAKING: Soldier shot at War Memorial in Ottawa  unrelated   \n",
       "4  Giant 8ft 9in catfish weighing 19 stone caught...  unrelated   \n",
       "\n",
       "                                       headProcessed  \\\n",
       "0  soldier shoot parliament lock down after gunfi...   \n",
       "1  tourist dub spider man after spider burrow und...   \n",
       "2          luke somer in fail rescu attempt in yemen   \n",
       "3        break soldier shoot at war memori in ottawa   \n",
       "4  giant catfish weigh stone catch in itali be th...   \n",
       "\n",
       "                                       bodyProcessed  \n",
       "0  a small meteorit crash into a wood area in nic...  \n",
       "1  a small meteorit crash into a wood area in nic...  \n",
       "2  a small meteorit crash into a wood area in nic...  \n",
       "3  a small meteorit crash into a wood area in nic...  \n",
       "4  a small meteorit crash into a wood area in nic...  "
      ]
     },
     "execution_count": 99,
     "metadata": {},
     "output_type": "execute_result"
    }
   ],
   "source": [
    "df.head(5)"
   ]
  },
  {
   "cell_type": "code",
   "execution_count": 100,
   "metadata": {},
   "outputs": [
    {
     "name": "stdout",
     "output_type": "stream",
     "text": [
      "   Body ID                                      bodyProcessed\n",
      "0        0  a small meteorit crash into a wood area in nic...\n",
      "1        4  last week we hint at what wa to come as ebola ...\n",
      "2        5  newser wonder how long a quarter pounder with ...\n",
      "3        6  post photo of a child onlin isi support announ...\n",
      "4        7  at least suspect boko haram insurg be kill in ...\n",
      "   Body ID                                      headProcessed     Stance\n",
      "0        0  soldier shoot parliament lock down after gunfi...  unrelated\n",
      "1        0  tourist dub spider man after spider burrow und...  unrelated\n",
      "2        0          luke somer in fail rescu attempt in yemen  unrelated\n",
      "3        0        break soldier shoot at war memori in ottawa  unrelated\n",
      "4        0  giant catfish weigh stone catch in itali be th...  unrelated\n"
     ]
    }
   ],
   "source": [
    "    \n",
    "# unique bodies\n",
    "Bodydf = df.groupby('Body ID').first()[['bodyProcessed']]\n",
    "Bodydf.reset_index(inplace=True)\n",
    "print(Bodydf.head(5))\n",
    "\n",
    "# unique Heads\n",
    "Headdf = df[['Body ID','headProcessed','Stance']]\n",
    "print(Headdf.head(5))"
   ]
  },
  {
   "cell_type": "code",
   "execution_count": 101,
   "metadata": {},
   "outputs": [
    {
     "data": {
      "text/html": [
       "<div>\n",
       "<style scoped>\n",
       "    .dataframe tbody tr th:only-of-type {\n",
       "        vertical-align: middle;\n",
       "    }\n",
       "\n",
       "    .dataframe tbody tr th {\n",
       "        vertical-align: top;\n",
       "    }\n",
       "\n",
       "    .dataframe thead th {\n",
       "        text-align: right;\n",
       "    }\n",
       "</style>\n",
       "<table border=\"1\" class=\"dataframe\">\n",
       "  <thead>\n",
       "    <tr style=\"text-align: right;\">\n",
       "      <th></th>\n",
       "      <th>Body ID</th>\n",
       "      <th>headProcessed</th>\n",
       "      <th>Stance</th>\n",
       "    </tr>\n",
       "  </thead>\n",
       "  <tbody>\n",
       "    <tr>\n",
       "      <th>0</th>\n",
       "      <td>0</td>\n",
       "      <td>soldier shoot parliament lock down after gunfi...</td>\n",
       "      <td>unrelated</td>\n",
       "    </tr>\n",
       "    <tr>\n",
       "      <th>1</th>\n",
       "      <td>0</td>\n",
       "      <td>tourist dub spider man after spider burrow und...</td>\n",
       "      <td>unrelated</td>\n",
       "    </tr>\n",
       "    <tr>\n",
       "      <th>2</th>\n",
       "      <td>0</td>\n",
       "      <td>luke somer in fail rescu attempt in yemen</td>\n",
       "      <td>unrelated</td>\n",
       "    </tr>\n",
       "    <tr>\n",
       "      <th>3</th>\n",
       "      <td>0</td>\n",
       "      <td>break soldier shoot at war memori in ottawa</td>\n",
       "      <td>unrelated</td>\n",
       "    </tr>\n",
       "    <tr>\n",
       "      <th>4</th>\n",
       "      <td>0</td>\n",
       "      <td>giant catfish weigh stone catch in itali be th...</td>\n",
       "      <td>unrelated</td>\n",
       "    </tr>\n",
       "  </tbody>\n",
       "</table>\n",
       "</div>"
      ],
      "text/plain": [
       "   Body ID                                      headProcessed     Stance\n",
       "0        0  soldier shoot parliament lock down after gunfi...  unrelated\n",
       "1        0  tourist dub spider man after spider burrow und...  unrelated\n",
       "2        0          luke somer in fail rescu attempt in yemen  unrelated\n",
       "3        0        break soldier shoot at war memori in ottawa  unrelated\n",
       "4        0  giant catfish weigh stone catch in itali be th...  unrelated"
      ]
     },
     "execution_count": 101,
     "metadata": {},
     "output_type": "execute_result"
    }
   ],
   "source": [
    "Headdf.head(5)"
   ]
  },
  {
   "cell_type": "code",
   "execution_count": 102,
   "metadata": {},
   "outputs": [],
   "source": [
    "''' set maximum dimension '''\n",
    "colIndex = Bodydf.columns.get_loc(\"bodyProcessed\")\n",
    "for index,row in Bodydf.iterrows():\n",
    "    Bodydf.iat[index, colIndex] = \" \".join(row['bodyProcessed'].split(' ')[:MAXBODYSIZE])\n",
    "    \n",
    "colIndex = Headdf.columns.get_loc(\"headProcessed\")\n",
    "for index,row in Headdf.iterrows():\n",
    "    Headdf.iat[index, colIndex] = \" \".join(row['headProcessed'].split(' ')[:MAXHEADSIZE])"
   ]
  },
  {
   "cell_type": "code",
   "execution_count": 103,
   "metadata": {},
   "outputs": [],
   "source": [
    "totalText = []"
   ]
  },
  {
   "cell_type": "code",
   "execution_count": 114,
   "metadata": {},
   "outputs": [],
   "source": [
    "def totalWordsForEmbedding(dfHead, dfBody):\n",
    "    global totalText\n",
    "    for index, row in dfHead.iterrows():\n",
    "        totalText.append(row['headProcessed'].split(' '))\n",
    "    for index, row in dfBody.iterrows():\n",
    "        totalText.append(row['bodyProcessed'].split(' '))"
   ]
  },
  {
   "cell_type": "code",
   "execution_count": 115,
   "metadata": {},
   "outputs": [],
   "source": [
    "totalWordsForEmbedding(Headdf, Bodydf)"
   ]
  },
  {
   "cell_type": "code",
   "execution_count": 122,
   "metadata": {},
   "outputs": [
    {
     "name": "stdout",
     "output_type": "stream",
     "text": [
      "   Body ID                                      bodyProcessed\n",
      "0        1  ha deni isra report state that he offer to ext...\n",
      "1        2  a bereav afghan mother take reveng on the tali...\n",
      "2        3  cnbc be report tesla ha choose nevada as the s...\n",
      "3       12  a version of the iphon be say to be in develop...\n",
      "4       19  gr editor s note there be no report in the wes...\n",
      "   Body ID                                      headProcessed\n",
      "0        1        appl instal safe to protect gold watch edit\n",
      "1        1  deni claim he will give sinai land to palestinian\n",
      "2        1       appl to keep gold watch edit in special safe\n",
      "3        1  appl store to keep gold edit appl watch in cus...\n",
      "4        1  south korean woman hair by robot vacuum cleane...\n"
     ]
    }
   ],
   "source": [
    "''' CONDENSED FOR TEST '''\n",
    "\n",
    "df = pd.read_csv('testProcessed.csv').dropna()\n",
    "df.reset_index(drop=True, inplace=True)\n",
    "Bodydf = df.groupby('Body ID').first()[['bodyProcessed']]\n",
    "Bodydf.reset_index(inplace=True)\n",
    "print(Bodydf.head(5))\n",
    "\n",
    "# unique Heads\n",
    "Headdf = df[['Body ID','headProcessed']]\n",
    "print(Headdf.head(5))\n",
    "''' set maximum dimension '''\n",
    "colIndex = Bodydf.columns.get_loc(\"bodyProcessed\")\n",
    "for index,row in Bodydf.iterrows():\n",
    "    Bodydf.iat[index, colIndex] = \" \".join(row['bodyProcessed'].split(' ')[:MAXBODYSIZE])\n",
    "    \n",
    "colIndex = Headdf.columns.get_loc(\"headProcessed\")\n",
    "for index,row in Headdf.iterrows():\n",
    "    Headdf.iat[index, colIndex] = \" \".join(row['headProcessed'].split(' ')[:MAXHEADSIZE])\n",
    "totalWordsForEmbedding(Headdf, Bodydf)"
   ]
  },
  {
   "cell_type": "code",
   "execution_count": 123,
   "metadata": {},
   "outputs": [],
   "source": [
    "from keras.preprocessing.text import Tokenizer"
   ]
  },
  {
   "cell_type": "code",
   "execution_count": 124,
   "metadata": {},
   "outputs": [
    {
     "name": "stdout",
     "output_type": "stream",
     "text": [
      "14666 14666 127941\n"
     ]
    }
   ],
   "source": [
    "tokenizer = Tokenizer()\n",
    "tokenizer.fit_on_texts(totalText)\n",
    "wordIndexs = tokenizer.word_index\n",
    "vocabSize = tokenizer.word_counts\n",
    "print(len(wordIndexs), len(vocabSize), tokenizer.document_count)"
   ]
  },
  {
   "cell_type": "code",
   "execution_count": null,
   "metadata": {},
   "outputs": [],
   "source": []
  }
 ],
 "metadata": {
  "kernelspec": {
   "display_name": "Python 3",
   "language": "python",
   "name": "python3"
  },
  "language_info": {
   "codemirror_mode": {
    "name": "ipython",
    "version": 3
   },
   "file_extension": ".py",
   "mimetype": "text/x-python",
   "name": "python",
   "nbconvert_exporter": "python",
   "pygments_lexer": "ipython3",
   "version": "3.7.3"
  }
 },
 "nbformat": 4,
 "nbformat_minor": 2
}
