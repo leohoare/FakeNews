{
 "cells": [
  {
   "cell_type": "code",
   "execution_count": 9,
   "metadata": {},
   "outputs": [],
   "source": [
    "'''\n",
    "    Feature Class\n",
    "returns a joiuned data frame with Body Id, article Body, Headline, Stance\n",
    "can refer to file names for sanity checks\n",
    "'''\n",
    "class Features:\n",
    "    def __init__(self, headerFile , bodyFile):\n",
    "        import pandas as pd\n",
    "        self.headFile = headerFile\n",
    "        self.bodyFile = bodyFile\n",
    "        self.df = pd.merge(pd.read_csv(headerFile), pd.read_csv(bodyFile), on='Body ID')\n"
   ]
  },
  {
   "cell_type": "code",
   "execution_count": 14,
   "metadata": {},
   "outputs": [
    {
     "name": "stdout",
     "output_type": "stream",
     "text": [
      "   Body ID                                        articleBody  \\\n",
      "0        0  A small meteorite crashed into a wooded area i...   \n",
      "1        0  A small meteorite crashed into a wooded area i...   \n",
      "2        0  A small meteorite crashed into a wooded area i...   \n",
      "3        0  A small meteorite crashed into a wooded area i...   \n",
      "4        0  A small meteorite crashed into a wooded area i...   \n",
      "5        0  A small meteorite crashed into a wooded area i...   \n",
      "6        0  A small meteorite crashed into a wooded area i...   \n",
      "7        0  A small meteorite crashed into a wooded area i...   \n",
      "8        0  A small meteorite crashed into a wooded area i...   \n",
      "9        0  A small meteorite crashed into a wooded area i...   \n",
      "\n",
      "                                            Headline     Stance  \n",
      "0  Soldier shot, Parliament locked down after gun...  unrelated  \n",
      "1  Tourist dubbed ‘Spider Man’ after spider burro...  unrelated  \n",
      "2  Luke Somers 'killed in failed rescue attempt i...  unrelated  \n",
      "3   BREAKING: Soldier shot at War Memorial in Ottawa  unrelated  \n",
      "4  Giant 8ft 9in catfish weighing 19 stone caught...  unrelated  \n",
      "5  Enormous 20-stone catfish caught with fishing ...  unrelated  \n",
      "6  Italian catches huge wels catfish; is it a rec...  unrelated  \n",
      "7  Not coming to a store near you: The pumpkin sp...  unrelated  \n",
      "8  One gunman killed in shooting on Parliament Hi...  unrelated  \n",
      "9             Soldier shot at war memorial in Canada  unrelated  \n"
     ]
    }
   ],
   "source": [
    "#features = Features('./DefaultFiles/train_bodies.csv','./DefaultFiles/train_stances.csv')\n",
    "#print(features.df.head(10))"
   ]
  }
 ],
 "metadata": {
  "kernelspec": {
   "display_name": "Python 3",
   "language": "python",
   "name": "python3"
  },
  "language_info": {
   "codemirror_mode": {
    "name": "ipython",
    "version": 3
   },
   "file_extension": ".py",
   "mimetype": "text/x-python",
   "name": "python",
   "nbconvert_exporter": "python",
   "pygments_lexer": "ipython3",
   "version": "3.7.3"
  }
 },
 "nbformat": 4,
 "nbformat_minor": 2
}
